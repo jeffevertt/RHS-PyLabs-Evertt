{
 "cells": [
  {
   "cell_type": "code",
   "execution_count": null,
   "metadata": {},
   "outputs": [],
   "source": [
    "import pandas as pd\n",
    "import matplotlib.pyplot as plt\n",
    "from sklearn.tree import DecisionTreeClassifier, DecisionTreeRegressor"
   ]
  },
  {
   "cell_type": "markdown",
   "metadata": {},
   "source": [
    "---\n",
    "This sample code reads a small dataset of music preferences and then trains a simple ML model (decision tree model) to predict music preference based on game and gender."
   ]
  },
  {
   "cell_type": "code",
   "execution_count": null,
   "metadata": {},
   "outputs": [],
   "source": [
    "musicData = pd.read_csv('./data/musicSimple.csv')\n",
    "\n",
    "X = musicData.drop(columns=['genre'])  # input (all other columns, except 'gender')\n",
    "y = musicData['genre']                 # output\n",
    "\n",
    "# create and train the ML model (decision tree)\n",
    "model = DecisionTreeClassifier()\n",
    "model.fit(X.values, y.values)\n",
    "\n",
    "# predict for a 21 y.o. male, then a 22 y.o. female\n",
    "display( \"21 yo male   -->  \" + str(model.predict( [ [21, 1] ] )[0]) ) \n",
    "display( \"22 yo female -->  \" + str(model.predict( [ [22, 0] ] )[0]) )\n"
   ]
  },
  {
   "cell_type": "markdown",
   "metadata": {},
   "source": [
    "---\n",
    "Your goal...\n",
    "- Use student performance data set (\"./data/studentPerformance.csv\")\n",
    "- Train an ML model to make some prediction about the data\n",
    "-  You'll need to use the DecisionTreeRegressor() model instead, because the output types are contiguous (not discrete/categorical)\n",
    "- Test it out\n",
    "- Validate based on some visualization the data"
   ]
  },
  {
   "cell_type": "code",
   "execution_count": null,
   "metadata": {},
   "outputs": [],
   "source": [
    "studentData = pd.read_csv('./data/studentPerformance.csv')\n",
    "\n",
    "input = studentData[ ['Absences', 'Gender', 'Tutoring'] ]\n",
    "output = studentData[ 'GPA' ]\n",
    "\n",
    "model = DecisionTreeRegressor()\n",
    "model.fit(input, output)\n",
    "\n",
    "print(f\"Student with 5 absences, male, no tutoring -> GPA:{model.predict( [[5, 1, 0]] )}\")\n",
    "print(f\"Student with 5 absences, female, no tutoring -> GPA:{model.predict( [[5, 0, 0]] )}\")\n",
    "print(f\"Student with 5 absences, female, tutoring -> GPA:{model.predict( [[5, 0, 1]] )}\")\n",
    "\n",
    "plt.scatter(studentData['Absences'], studentData['GPA'], alpha=0.7)\n",
    "plt.show()"
   ]
  }
 ],
 "metadata": {
  "kernelspec": {
   "display_name": "Python 3",
   "language": "python",
   "name": "python3"
  },
  "language_info": {
   "codemirror_mode": {
    "name": "ipython",
    "version": 3
   },
   "file_extension": ".py",
   "mimetype": "text/x-python",
   "name": "python",
   "nbconvert_exporter": "python",
   "pygments_lexer": "ipython3",
   "version": "3.13.0"
  }
 },
 "nbformat": 4,
 "nbformat_minor": 2
}
