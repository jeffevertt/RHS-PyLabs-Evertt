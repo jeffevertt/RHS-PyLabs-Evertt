{
 "cells": [
  {
   "cell_type": "code",
   "execution_count": 1,
   "metadata": {},
   "outputs": [],
   "source": [
    "from lib.canvas import Canvas\n",
    "from lib.canvas_object import CanvasObject\n",
    "from lib.canvas_object_circle import CanvasObjectCircle\n",
    "from lib.utils import *\n",
    "import lib.lab_pathing as lab\n",
    "import math"
   ]
  },
  {
   "cell_type": "markdown",
   "metadata": {},
   "source": [
    "------------\n",
    "Challenge 1: Find a path for blue circle to the green goal.\n",
    "<li>Path is a list of vectors, put your list of vectors here (remove the two placeholder ones)\n",
    "<li>The ball will move along the vectors one by one.\n",
    "<li>You need to go around the dark gray rectangles."
   ]
  },
  {
   "cell_type": "code",
   "execution_count": null,
   "metadata": {},
   "outputs": [
    {
     "data": {
      "application/vnd.jupyter.widget-view+json": {
       "model_id": "1bd82d4874eb4ef0a725fc2560efe950",
       "version_major": 2,
       "version_minor": 0
      },
      "text/plain": [
       "HBox(children=(Canvas(height=400, layout=Layout(border='3px solid black', min_width='600px'), width=600), Outp…"
      ]
     },
     "metadata": {},
     "output_type": "display_data"
    }
   ],
   "source": [
    "# add your list of vectors here\n",
    "path = [ v2(1,0),   # replace these\n",
    "         v2(1,5) ]\n",
    "\n",
    "# don't modify this bit\n",
    "lab.runLab_pathing1(path)"
   ]
  },
  {
   "cell_type": "markdown",
   "metadata": {},
   "source": [
    "------------\n",
    "Challenge 2: Find a path for blue circle to the green goal."
   ]
  },
  {
   "cell_type": "code",
   "execution_count": 3,
   "metadata": {},
   "outputs": [
    {
     "data": {
      "application/vnd.jupyter.widget-view+json": {
       "model_id": "35ea2712474f486a9eb2f4b29da88763",
       "version_major": 2,
       "version_minor": 0
      },
      "text/plain": [
       "HBox(children=(Canvas(height=400, layout=Layout(border='3px solid black', min_width='600px'), width=600), Outp…"
      ]
     },
     "metadata": {},
     "output_type": "display_data"
    }
   ],
   "source": [
    "# add your list of vectors here\n",
    "path = [ v2(5, 0) ]\n",
    "\n",
    "# don't modify this bit\n",
    "lab.runLab_pathing2(path)"
   ]
  },
  {
   "cell_type": "markdown",
   "metadata": {},
   "source": [
    "------------\n",
    "Challenge 3: Find a path for blue circle to the green goal."
   ]
  },
  {
   "cell_type": "code",
   "execution_count": null,
   "metadata": {},
   "outputs": [
    {
     "data": {
      "application/vnd.jupyter.widget-view+json": {
       "model_id": "4677ac0149c44aaabf0639de88de28cb",
       "version_major": 2,
       "version_minor": 0
      },
      "text/plain": [
       "HBox(children=(Canvas(height=400, layout=Layout(border='3px solid black', min_width='600px'), width=600), Outp…"
      ]
     },
     "metadata": {},
     "output_type": "display_data"
    }
   ],
   "source": [
    "# add your list of vectors here\n",
    "path = [ v2(5, 0) ]\n",
    "\n",
    "# don't modify this bit\n",
    "lab.runLab_pathing3(path)"
   ]
  },
  {
   "cell_type": "markdown",
   "metadata": {},
   "source": [
    "------------\n",
    "Challenge 4: Find a path for blue circle to the green goal."
   ]
  },
  {
   "cell_type": "code",
   "execution_count": null,
   "metadata": {},
   "outputs": [
    {
     "data": {
      "application/vnd.jupyter.widget-view+json": {
       "model_id": "02dfba92e6d24f68b6d1f2378278bce6",
       "version_major": 2,
       "version_minor": 0
      },
      "text/plain": [
       "HBox(children=(Canvas(height=400, layout=Layout(border='3px solid black', min_width='600px'), width=600), Outp…"
      ]
     },
     "metadata": {},
     "output_type": "display_data"
    }
   ],
   "source": [
    "# add your list of vectors here\n",
    "path = [ v2(5, 0) ]\n",
    "\n",
    "# don't modify this bit\n",
    "lab.runLab_pathing4(path)"
   ]
  },
  {
   "cell_type": "markdown",
   "metadata": {},
   "source": [
    "------------\n",
    "Challenge 5: Find a path for blue circle to the green goal."
   ]
  },
  {
   "cell_type": "code",
   "execution_count": null,
   "metadata": {},
   "outputs": [
    {
     "data": {
      "application/vnd.jupyter.widget-view+json": {
       "model_id": "67e8373bea364ee1ae698c91bd29d7e1",
       "version_major": 2,
       "version_minor": 0
      },
      "text/plain": [
       "HBox(children=(Canvas(height=400, layout=Layout(border='3px solid black', min_width='600px'), width=600), Outp…"
      ]
     },
     "metadata": {},
     "output_type": "display_data"
    }
   ],
   "source": [
    "# add your list of vectors here\n",
    "path = [ v2(0, 5) ]\n",
    "\n",
    "# don't modify this bit\n",
    "lab.runLab_pathing5(path)"
   ]
  },
  {
   "cell_type": "markdown",
   "metadata": {},
   "source": [
    "------------\n",
    "Challenge 6: Find a path for blue circle to the green goal."
   ]
  },
  {
   "cell_type": "code",
   "execution_count": null,
   "metadata": {},
   "outputs": [
    {
     "data": {
      "application/vnd.jupyter.widget-view+json": {
       "model_id": "24a39f4e992b475d83ecd71e3678a4dc",
       "version_major": 2,
       "version_minor": 0
      },
      "text/plain": [
       "HBox(children=(Canvas(height=400, layout=Layout(border='3px solid black', min_width='600px'), width=600), Outp…"
      ]
     },
     "metadata": {},
     "output_type": "display_data"
    }
   ],
   "source": [
    "# add your list of vectors here\n",
    "path = [ v2(0, 5) ]\n",
    "\n",
    "# don't modify this bit\n",
    "lab.runLab_pathing6(path)"
   ]
  }
 ],
 "metadata": {
  "kernelspec": {
   "display_name": "base",
   "language": "python",
   "name": "python3"
  },
  "language_info": {
   "codemirror_mode": {
    "name": "ipython",
    "version": 3
   },
   "file_extension": ".py",
   "mimetype": "text/x-python",
   "name": "python",
   "nbconvert_exporter": "python",
   "pygments_lexer": "ipython3",
   "version": "3.12.3"
  }
 },
 "nbformat": 4,
 "nbformat_minor": 2
}
