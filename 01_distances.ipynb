{
 "cells": [
  {
   "cell_type": "code",
   "execution_count": 1,
   "metadata": {},
   "outputs": [],
   "source": [
    "from lib.canvas import Canvas\n",
    "from lib.canvas_object import CanvasObject\n",
    "from lib.canvas_object_circle import CanvasObjectCircle\n",
    "import lib.lab_distance as lab\n",
    "import math"
   ]
  },
  {
   "cell_type": "markdown",
   "metadata": {},
   "source": [
    "------------\n",
    "Challenge 1: Distance from the Origin to the center of A\n",
    "<li>Goal: Write a function that calculates & returns the distance\n",
    "<li>An initial function is given, modify it so that it does the correct math...\n",
    "<li>x value is a.pos[0], y value is a.pos[1]...hint: math.sqrt() might be useful to you."
   ]
  },
  {
   "cell_type": "code",
   "execution_count": 2,
   "metadata": {},
   "outputs": [
    {
     "data": {
      "application/vnd.jupyter.widget-view+json": {
       "model_id": "26ddf8ce23c84f29860d69e3ba362832",
       "version_major": 2,
       "version_minor": 0
      },
      "text/plain": [
       "HBox(children=(Canvas(height=400, layout=Layout(border='3px solid black', min_width='600px'), width=600), Outp…"
      ]
     },
     "metadata": {},
     "output_type": "display_data"
    }
   ],
   "source": [
    "def calc_distance(a):\n",
    "    #TODO - Your code goes here (replace this with your code)\n",
    "    dst = a.pos[0] \n",
    "    return dst\n",
    "\n",
    "# Don't modify this bit...\n",
    "a = CanvasObjectCircle([0,0], 0.5, \"a\", \"red\")\n",
    "lab.runLab_distance1(a, calc_distance)"
   ]
  },
  {
   "cell_type": "markdown",
   "metadata": {},
   "source": [
    "------------\n",
    "Challenge 2: Distance from A to B\n",
    "<li>Goal: Write a function that calculates & returns the distance"
   ]
  },
  {
   "cell_type": "code",
   "execution_count": 3,
   "metadata": {},
   "outputs": [
    {
     "data": {
      "application/vnd.jupyter.widget-view+json": {
       "model_id": "b4bc7f88d73a40b399a65fcf7eb0b289",
       "version_major": 2,
       "version_minor": 0
      },
      "text/plain": [
       "HBox(children=(Canvas(height=400, layout=Layout(border='3px solid black', min_width='600px'), width=600), Outp…"
      ]
     },
     "metadata": {},
     "output_type": "display_data"
    }
   ],
   "source": [
    "def calc_distance(a, b):\n",
    "    #TODO - Your code goes here (replace this with your code)\n",
    "    dst = a.pos[0] - b.pos[1]\n",
    "    return dst\n",
    "\n",
    "# Don't modify this bit...\n",
    "a = CanvasObjectCircle([0,0], 0.5, \"A\", \"red\")\n",
    "b = CanvasObjectCircle([0,0], 0.5, \"B\", \"blue\")\n",
    "lab.runLab_distance2(a, b, calc_distance)"
   ]
  },
  {
   "cell_type": "markdown",
   "metadata": {},
   "source": [
    "------------\n",
    "Challenge 3: Angular distance from x axis to the center of A\n",
    "<li>Goal: Write a function that calculates the angle from the x-axis to the line from the origin to A"
   ]
  },
  {
   "cell_type": "code",
   "execution_count": 4,
   "metadata": {},
   "outputs": [
    {
     "data": {
      "application/vnd.jupyter.widget-view+json": {
       "model_id": "44cd053a95234480875114ff8231a57a",
       "version_major": 2,
       "version_minor": 0
      },
      "text/plain": [
       "HBox(children=(Canvas(height=400, layout=Layout(border='3px solid black', min_width='600px'), width=600), Outp…"
      ]
     },
     "metadata": {},
     "output_type": "display_data"
    }
   ],
   "source": [
    "def calc_angle(a):\n",
    "    #TODO - Your code goes here (replace this with your code)\n",
    "    angle = a.pos[1]\n",
    "    return math.degrees( angle )\n",
    "\n",
    "# Don't modify this bit...\n",
    "a = CanvasObjectCircle([0,0], 0.5, \"A\", \"red\")\n",
    "lab.runLab_distance3(a, calc_angle)"
   ]
  },
  {
   "cell_type": "markdown",
   "metadata": {},
   "source": [
    "------------\n",
    "Challenge 4: Angular distance - Angle B is rotated around A\n",
    "<li>Goal: Write a function that calculates the angle of rotation for point B around A. The reference angle (zero degrees) is when B is directly to the right of A."
   ]
  },
  {
   "cell_type": "code",
   "execution_count": 5,
   "metadata": {},
   "outputs": [
    {
     "data": {
      "application/vnd.jupyter.widget-view+json": {
       "model_id": "d4b33ccdb4fd4c3d8e9d7c04e7faec50",
       "version_major": 2,
       "version_minor": 0
      },
      "text/plain": [
       "HBox(children=(Canvas(height=400, layout=Layout(border='3px solid black', min_width='600px'), width=600), Outp…"
      ]
     },
     "metadata": {},
     "output_type": "display_data"
    }
   ],
   "source": [
    "def calc_angle(a, b):\n",
    "    #TODO - Your code goes here (replace this with your code)\n",
    "    angle = a.pos[1] - b.pos[0]\n",
    "    return math.degrees( angle )\n",
    "\n",
    "# Don't modify this bit...\n",
    "a = CanvasObjectCircle([0,0], 0.5, \"A\", \"red\")\n",
    "b = CanvasObjectCircle([0,0], 0.5, \"B\", \"blue\")\n",
    "lab.runLab_distance4(a, b, calc_angle)"
   ]
  }
 ],
 "metadata": {
  "kernelspec": {
   "display_name": "base",
   "language": "python",
   "name": "python3"
  },
  "language_info": {
   "codemirror_mode": {
    "name": "ipython",
    "version": 3
   },
   "file_extension": ".py",
   "mimetype": "text/x-python",
   "name": "python",
   "nbconvert_exporter": "python",
   "pygments_lexer": "ipython3",
   "version": "3.12.3"
  }
 },
 "nbformat": 4,
 "nbformat_minor": 2
}
