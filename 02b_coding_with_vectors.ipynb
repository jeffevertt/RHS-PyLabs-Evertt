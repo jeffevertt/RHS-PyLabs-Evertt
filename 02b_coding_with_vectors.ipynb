{
 "cells": [
  {
   "cell_type": "code",
   "execution_count": null,
   "metadata": {},
   "outputs": [],
   "source": [
    "from lib.utils import *\n",
    "from lib.utils_graph import *\n",
    "from types import SimpleNamespace"
   ]
  },
  {
   "cell_type": "markdown",
   "metadata": {},
   "source": [
    "-----\n",
    "<center><h4>Challenge 1: Define, print, and graph some vector</h4>\n",
    "Vectors are multi-component values.<br>\n",
    "In other words, a number like 5 is a single component value (we call this a scalar),<br>\n",
    "And the vector (3,2) has two components/values,<br>\n",
    "Graphically, they are something like an arrow, with a direction & length.<br>\n",
    "You can define 2-dimentional vector x like so, x = v2(3,2)</center>"
   ]
  },
  {
   "cell_type": "code",
   "execution_count": null,
   "metadata": {},
   "outputs": [],
   "source": [
    "# Challange 1a: Define a couple of vectors, x and y, you pick their values (use v2(a,b) for this)\n",
    "# TODO\n",
    "\n",
    "# Challange 1b: Print them here, use the same print(text) function\n",
    "# TODO\n",
    "\n",
    "# Challange 1c: Now, let's put them on a graph (visualize them), use a helper function for this: graphVector\n",
    "#   example (single vector on a graph): graphVector( v2(3, 2), color = 'red')\n",
    "#   example (two vectors on a graph):   graphVector( [v2(3, 2), v2(7,-1)], color = ['blue', 'orange'])\n",
    "# TODO"
   ]
  },
  {
   "cell_type": "markdown",
   "metadata": {},
   "source": [
    "----\n",
    "<center><h4>Challenge 2: Point & velocity as vectors</h4>\n",
    "Vectors don't have start position built into them. You can start them anywhere when you draw them on a graph.<br>\n",
    "Often, you need both things: A start position & a vector (like with a ball's position and velocity)<br>\n",
    "It's usually better to visualize the vector starting at the position. So, let's do that.<br>"
   ]
  },
  {
   "cell_type": "code",
   "execution_count": null,
   "metadata": {},
   "outputs": [],
   "source": [
    "# Challenge 2a: Define a ball's position & velocity using two vectors.\n",
    "#   you can keep it simple and make two separate variables.\n",
    "#   or, if you'd like you can make a single object with pos & vel properites.\n",
    "#      ...use SimpleNamespace() for the latter, do a google it for a how-to.\n",
    "# TODO\n",
    "\n",
    "\n",
    "# Challenge 2b: Print it out and graph it\n",
    "#   remember that graphVector can take a \"tuple\" parameter that has (origin, direction).\n",
    "#   select graphVector & hit F12 for some example usage\n",
    "# TODO"
   ]
  },
  {
   "cell_type": "markdown",
   "metadata": {},
   "source": [
    "-----\n",
    "<center><h4>Challenge 3: Adding Vectors</h4>\n",
    "Just like with numbers/scalars, you can add and subtract vectors<br>\n",
    "In this challenge, you should learn what adding and subtracting does to vectors."
   ]
  },
  {
   "cell_type": "code",
   "execution_count": null,
   "metadata": {},
   "outputs": [],
   "source": [
    "# Here's a couple vectors\n",
    "#   When you add them, it's like following the path along a, then along b.\n",
    "#   Check out the graph and see what I mean...\n",
    "a = v2(5,0)\n",
    "b = v2(0,2)\n",
    "graphVector( [(v2_zero(), a), (a, b)] )\n",
    "\n",
    "# Challenge 3a: Define a vector c that is the sum of a and b, then print it out\n",
    "# TODO\n",
    "\n",
    "# Challenge 3b: Modify the graph above to draw c on the same graph\n",
    "#   notice that taking the a + b path gets you to the same place as taking the c path\n",
    "# TODO"
   ]
  },
  {
   "cell_type": "markdown",
   "metadata": {},
   "source": [
    "-----\n",
    "<center><h4>Challenge 4: Adding Vectors (part 2)</h4>\n",
    "Ok, now you try...create up three vectors, add them & graph them.<br>\n",
    "Does the sum vector lead to the same place as the path following a, b, then c?"
   ]
  },
  {
   "cell_type": "code",
   "execution_count": null,
   "metadata": {},
   "outputs": [],
   "source": [
    "# Challenge 4a: (see above text)\n",
    "# TODO"
   ]
  },
  {
   "cell_type": "markdown",
   "metadata": {},
   "source": [
    "-----\n",
    "<center><h4>Challenge 5: Subtracting Vectors</h4>\n",
    "Subtracting them is also very useful. Let's get some practice with it."
   ]
  },
  {
   "cell_type": "code",
   "execution_count": null,
   "metadata": {},
   "outputs": [],
   "source": [
    "# Here's a couple of vectors to use\n",
    "a = v2(5,0)\n",
    "c = v2(7,4)\n",
    "graphVector( [a, c], color = ['blue', 'green'])\n",
    "\n",
    "# Challenge 5a: Predict what (a - c) will equal & what it will look like on a graph.\n",
    "#  Your prediction...\n",
    "#      (a - c) will equal: \n",
    "#  Now, have python figure it out. Then, graph all three\n",
    "# TODO"
   ]
  },
  {
   "cell_type": "markdown",
   "metadata": {},
   "source": [
    "-----\n",
    "<center><h4>Challenge 6: Subtracting Two Points</h4>\n",
    "When you subtract two points, like so: b - a.<br>\n",
    "This gives you a vector from a to b.<br>\n",
    "What would you expect a - b would tell you?"
   ]
  },
  {
   "cell_type": "code",
   "execution_count": null,
   "metadata": {},
   "outputs": [],
   "source": [
    "# Here's a couple of vectors to use\n",
    "a = v2(5,2)\n",
    "b = v2(3,-6)\n",
    "\n",
    "# Challenge 6a: Predict what (b - a) will equal & what it will look like on a graph.\n",
    "#  Your prediction...\n",
    "#      (b - a) will equal: \n",
    "#  Now, have python figure it out. Then, graph all three\n",
    "# TODO"
   ]
  }
 ],
 "metadata": {
  "kernelspec": {
   "display_name": "base",
   "language": "python",
   "name": "python3"
  },
  "language_info": {
   "codemirror_mode": {
    "name": "ipython",
    "version": 3
   },
   "file_extension": ".py",
   "mimetype": "text/x-python",
   "name": "python",
   "nbconvert_exporter": "python",
   "pygments_lexer": "ipython3",
   "version": "3.12.3"
  }
 },
 "nbformat": 4,
 "nbformat_minor": 2
}
