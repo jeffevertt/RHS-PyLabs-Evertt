{
 "cells": [
  {
   "cell_type": "markdown",
   "metadata": {},
   "source": [
    "------------\n",
    "The Challenge: Score 10 out of 10 on the Dot Product Quiz!\n",
    "<li>Determine the value of the dot product of the red and blue vectors.\n",
    "<li>Enter it in the box before the time runs out.\n",
    "<li>Your goal is to get all 10 in a row correct!"
   ]
  },
  {
   "cell_type": "code",
   "execution_count": 4,
   "metadata": {},
   "outputs": [
    {
     "data": {
      "application/vnd.jupyter.widget-view+json": {
       "model_id": "6577c5ebb4464e659c740c8c67dc378c",
       "version_major": 2,
       "version_minor": 0
      },
      "text/plain": [
       "HBox(children=(Canvas(height=400, layout=Layout(border='3px solid black', min_width='400px'), width=400), VBox…"
      ]
     },
     "metadata": {},
     "output_type": "display_data"
    },
    {
     "name": "stdout",
     "output_type": "stream",
     "text": [
      "Question 1 correct: -1.0!\n",
      "Question 2 correct: 0.0!\n",
      "Question 3 correct: 0.0!\n",
      "Question 4 correct: 0.0!\n",
      "Question 5 correct: 0.0!\n",
      "Question 6 correct: -2.8!\n",
      "Question 7 correct: 1.4!\n",
      "Question 8 correct: 1.4!\n",
      "Question 9 correct: -1.4!\n",
      "Question 10 correct: 1.4!\n",
      "Well done - you win!!!\n"
     ]
    }
   ],
   "source": [
    "from lib.canvas import Canvas\n",
    "from lib.canvas_object import CanvasObject\n",
    "from lib.canvas_object_circle import CanvasObjectCircle\n",
    "from lib.utils import *\n",
    "import lib.lab_dot_product_quiz as lab\n",
    "import asyncio\n",
    "\n",
    "# run the lab\n",
    "task = asyncio.create_task( lab.runLab_dotProductQuiz() )"
   ]
  }
 ],
 "metadata": {
  "kernelspec": {
   "display_name": "base",
   "language": "python",
   "name": "python3"
  },
  "language_info": {
   "codemirror_mode": {
    "name": "ipython",
    "version": 3
   },
   "file_extension": ".py",
   "mimetype": "text/x-python",
   "name": "python",
   "nbconvert_exporter": "python",
   "pygments_lexer": "ipython3",
   "version": "3.12.3"
  }
 },
 "nbformat": 4,
 "nbformat_minor": 2
}
