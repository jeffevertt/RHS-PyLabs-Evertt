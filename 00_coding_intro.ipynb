{
 "cells": [
  {
   "cell_type": "code",
   "execution_count": 1,
   "metadata": {},
   "outputs": [],
   "source": [
    "import math"
   ]
  },
  {
   "cell_type": "markdown",
   "metadata": {},
   "source": [
    "-----\n",
    "<center><h4>Challenge 1: Coding Intro</h4>\n",
    "This is what is called a Jupyter Notebook, it has both text blocks and code blocks.<br>\n",
    "This is a text block, it's markdown format...basically, just stylable text<br>\n",
    "No code in this section</center>"
   ]
  },
  {
   "cell_type": "code",
   "execution_count": 2,
   "metadata": {},
   "outputs": [
    {
     "name": "stdout",
     "output_type": "stream",
     "text": [
      "this is how you print - note that text needs to be enclosed in quotes\n",
      "-------------------------------\n"
     ]
    }
   ],
   "source": [
    "# This is a block of code. This line has a # in front of it, making it a comment\n",
    "#   Comments are also text, but this time embedded into a code block\n",
    "#   The next line is some code, it prints something.\n",
    "print(\"this is how you print - note that text needs to be enclosed in quotes\")\n",
    "\n",
    "# You can run it by hitting the play button, just to the upper left of this code block.\n",
    "#   When you do, you should see some text show up after this block.\n",
    "\n",
    "print(\"-------------------------------\")\n",
    "\n",
    "# Challenge 1: Add some print lines below this, write a MULTI-LINE poem \"Roses are red, violets are blue...\" (or something similar)\n",
    "# TODO"
   ]
  },
  {
   "cell_type": "markdown",
   "metadata": {},
   "source": [
    "-----\n",
    "<center><h4>Challenge 2: Variables</h4>\n",
    "Variable store values (text, numbers, and other things)<br>\n",
    "You can assign values to them using the = symbol<br>\n",
    "x = 5      <--- this assigns 5 to the variable x  (just like in math class)<br>\n",
    "x = x + 2  <--- this assigns 5 + 2 to x  (it evaluates the right side, then assigns to the left)"
   ]
  },
  {
   "cell_type": "code",
   "execution_count": 3,
   "metadata": {},
   "outputs": [
    {
     "name": "stdout",
     "output_type": "stream",
     "text": [
      "Alice is 17 years old\n",
      "-------------------------------\n",
      "10 + 5  is \n",
      "10 - 5  is \n",
      "10 * 5  is \n",
      "10 / 5  is \n",
      "-------------------------------\n",
      "-------------------------------\n",
      "the solutions to 2x^2 +7x -15 are: 10\n"
     ]
    }
   ],
   "source": [
    "# Here's an example which demonstrates how you can print the value contained in a variable\n",
    "name = \"Alice\"\n",
    "age = 17\n",
    "print(name, \"is\", age, \"years old\")\n",
    "\n",
    "# Challenge 2a: Modify Alice's age variable to add two to it, then print it out\n",
    "# TODO\n",
    "\n",
    "print(\"-------------------------------\")\n",
    "\n",
    "# Challenge 2b: Complete the following block of code\n",
    "x = 10\n",
    "y = 5\n",
    "print(x,\"+\",y,\" is \")\n",
    "print(x,\"-\",y,\" is \")\n",
    "print(x,\"*\",y,\" is \")\n",
    "print(x,\"/\",y,\" is \")\n",
    "\n",
    "print(\"-------------------------------\")\n",
    "\n",
    "# Challenge 2c: Find the area of a triangle with the given dimensions & print out the result\n",
    "base = 18\n",
    "height = 6\n",
    "# TODO\n",
    "\n",
    "print(\"-------------------------------\")\n",
    "\n",
    "# Challenge 3d: Use the quadratic formula to find and print the solutions to the quadratic: y = 3x^2 - 7x + 15\n",
    "#   Look it up, if you don't recall what it is. Note that there will be two solutions.\n",
    "#   Here's an example of how to the the square root: math.sqrt(15)\n",
    "#   Another example: 5 + math.sqrt(2)   <-- 5 plus the square root of 2\n",
    "a = 2\n",
    "b = 7\n",
    "c = -15\n",
    "# TODO\n",
    "print(\"the solutions to\", str(a) + \"x^2 +\" + str(b) + \"x\", c, \"are:\", x)"
   ]
  },
  {
   "cell_type": "markdown",
   "metadata": {},
   "source": [
    "-----\n",
    "<center><h4>Challenge 3: Loops</h4>\n",
    "One of the things computers are great at is doing repeated actions, over and over again<br>\n",
    "A way to do this is a loop - lets see one in action"
   ]
  },
  {
   "cell_type": "code",
   "execution_count": 4,
   "metadata": {},
   "outputs": [
    {
     "name": "stdout",
     "output_type": "stream",
     "text": [
      "x ->  1\n",
      "x ->  3\n",
      "x ->  6\n",
      "x ->  10\n",
      "x ->  15\n",
      "5 + 4 + 3 + 2 + 1 = 15\n",
      "-------------------------------\n",
      "-------------------------------\n"
     ]
    }
   ],
   "source": [
    "# This is called a for loop, it runs the code that is tabbed over 5 times.\n",
    "#   The variable number is 1 on the first loop, 2 on the second...and 5 on the last.\n",
    "#   When the loop is done, x will store 5 + 4 + 3 + 2 + 1, which is 15\n",
    "#   (note that range(1, 6) defines the first number as inclusive and the second as exclusive)\n",
    "x = 0\n",
    "for number in range(1, 6):\n",
    "    x = x + number\n",
    "    print(\"x -> \", x)\n",
    "print(\"5 + 4 + 3 + 2 + 1 =\", x)\n",
    "\n",
    "print(\"-------------------------------\")\n",
    "\n",
    "# Challenge 3a: Write a loop that computes the factorial of 20\n",
    "#TODO\n",
    "\n",
    "print(\"-------------------------------\")\n",
    "\n",
    "# Challenge 3b: Write a loop to compute and print out the first 20 terms in the Fibonacci sequence\n",
    "#TODO"
   ]
  },
  {
   "cell_type": "markdown",
   "metadata": {},
   "source": [
    "-----\n",
    "<center><h4>Challenge 4: Functions</h4>\n",
    "What even in a function?<br>\n",
    "Well, you've something like them before in math<br><bold>f(x) = 2x + 5</bold><br>\n",
    "Like in math, they have some input and then output something.<br>\n",
    "In programming, they are a bit more general...but that's the basics of them."
   ]
  },
  {
   "cell_type": "code",
   "execution_count": 5,
   "metadata": {},
   "outputs": [
    {
     "name": "stdout",
     "output_type": "stream",
     "text": [
      "f(0) -> 5\n",
      "f(2) -> 9\n",
      "-------------------------------\n",
      "-------------------------------\n",
      "-------------------------------\n"
     ]
    }
   ],
   "source": [
    "# Ok, so here's an example of on...in fact it is the example provided in the description above\n",
    "def f(x):\n",
    "    return 2 * x + 5\n",
    "\n",
    "# The 'def' mean, define it. 'f' is the name I picked for the function, 'x' is the input variable\n",
    "#   and return is the keyword that returns the result.\n",
    "# Here's another example of the same function, but split across multiple lines.\n",
    "#   it does the exact same thing, but uses an intermediate variable y. Same result.\n",
    "def f(x):\n",
    "    y = 2 * x\n",
    "    y = y + 5\n",
    "    return y\n",
    "\n",
    "# Here's how I could use it\n",
    "print( \"f(0) ->\", f(0) )\n",
    "print( \"f(2) ->\", f(2) )\n",
    "\n",
    "print(\"-------------------------------\")\n",
    "\n",
    "# Challenge 4a: Write a function g(x) = 3x - 10, then print the result of g(0) and g(5)\n",
    "#TODO\n",
    "\n",
    "print(\"-------------------------------\")\n",
    "\n",
    "# Challenge 4b: There are other predefined function you can use. One is 'abs(x)' which take the absolute value of a value\n",
    "#   Use it to define a function h(x) = |x - 2|, then print the result oof h(0) and h(3)\n",
    "#TODO\n",
    "\n",
    "print(\"-------------------------------\")\n",
    "\n",
    "# Challenge 4c: You can also make functions that take two inputs/parameters. Declare it like 'def f(x, y):', return as normal\n",
    "#   You can also give them longer than than just f, g, or h. Like so 'def myFunction(x, y):'\n",
    "#   Define a function abc(x, y) = 2(x - y) + 1, then print the result of abc(3, 2) and abc(-2, -1)\n",
    "#TODO"
   ]
  }
 ],
 "metadata": {
  "kernelspec": {
   "display_name": "base",
   "language": "python",
   "name": "python3"
  },
  "language_info": {
   "codemirror_mode": {
    "name": "ipython",
    "version": 3
   },
   "file_extension": ".py",
   "mimetype": "text/x-python",
   "name": "python",
   "nbconvert_exporter": "python",
   "pygments_lexer": "ipython3",
   "version": "3.12.3"
  }
 },
 "nbformat": 4,
 "nbformat_minor": 2
}
